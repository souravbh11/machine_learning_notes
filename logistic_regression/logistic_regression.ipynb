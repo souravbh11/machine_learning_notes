{
 "cells": [
  {
   "cell_type": "markdown",
   "id": "20fb78b1-7fd2-4928-82c9-c3af883afccf",
   "metadata": {},
   "source": [
    "## logistic regression`"
   ]
  },
  {
   "cell_type": "code",
   "execution_count": 19,
   "id": "57caa18d-8bea-4055-85f9-0b8786f17515",
   "metadata": {},
   "outputs": [],
   "source": [
    "import pandas as pd\n",
    "import numpy as np\n",
    "from sklearn.linear_model import LogisticRegression\n",
    "from sklearn.model_selection import train_test_split\n",
    "\n",
    "from sklearn.metrics import accuracy_score,confusion_matrix,classification_report,precision_score,recall_score,f1_score\n",
    "\n",
    "import matplotlib.pyplot as plt\n",
    "import seaborn as sns\n",
    "import warnings\n",
    "warnings.filterwarnings(\"ignore\")"
   ]
  },
  {
   "cell_type": "code",
   "execution_count": 4,
   "id": "c5fa419b-6d90-4196-81dd-3f17bc01e9f5",
   "metadata": {},
   "outputs": [
    {
     "data": {
      "text/html": [
       "<div>\n",
       "<style scoped>\n",
       "    .dataframe tbody tr th:only-of-type {\n",
       "        vertical-align: middle;\n",
       "    }\n",
       "\n",
       "    .dataframe tbody tr th {\n",
       "        vertical-align: top;\n",
       "    }\n",
       "\n",
       "    .dataframe thead th {\n",
       "        text-align: right;\n",
       "    }\n",
       "</style>\n",
       "<table border=\"1\" class=\"dataframe\">\n",
       "  <thead>\n",
       "    <tr style=\"text-align: right;\">\n",
       "      <th></th>\n",
       "      <th>Pregnancies</th>\n",
       "      <th>Glucose</th>\n",
       "      <th>BloodPressure</th>\n",
       "      <th>SkinThickness</th>\n",
       "      <th>Insulin</th>\n",
       "      <th>BMI</th>\n",
       "      <th>DiabetesPedigreeFunction</th>\n",
       "      <th>Age</th>\n",
       "      <th>Outcome</th>\n",
       "    </tr>\n",
       "  </thead>\n",
       "  <tbody>\n",
       "    <tr>\n",
       "      <th>0</th>\n",
       "      <td>6</td>\n",
       "      <td>148</td>\n",
       "      <td>72</td>\n",
       "      <td>35</td>\n",
       "      <td>0</td>\n",
       "      <td>33.6</td>\n",
       "      <td>0.627</td>\n",
       "      <td>50</td>\n",
       "      <td>1</td>\n",
       "    </tr>\n",
       "    <tr>\n",
       "      <th>1</th>\n",
       "      <td>1</td>\n",
       "      <td>85</td>\n",
       "      <td>66</td>\n",
       "      <td>29</td>\n",
       "      <td>0</td>\n",
       "      <td>26.6</td>\n",
       "      <td>0.351</td>\n",
       "      <td>31</td>\n",
       "      <td>0</td>\n",
       "    </tr>\n",
       "    <tr>\n",
       "      <th>2</th>\n",
       "      <td>8</td>\n",
       "      <td>183</td>\n",
       "      <td>64</td>\n",
       "      <td>0</td>\n",
       "      <td>0</td>\n",
       "      <td>23.3</td>\n",
       "      <td>0.672</td>\n",
       "      <td>32</td>\n",
       "      <td>1</td>\n",
       "    </tr>\n",
       "    <tr>\n",
       "      <th>3</th>\n",
       "      <td>1</td>\n",
       "      <td>89</td>\n",
       "      <td>66</td>\n",
       "      <td>23</td>\n",
       "      <td>94</td>\n",
       "      <td>28.1</td>\n",
       "      <td>0.167</td>\n",
       "      <td>21</td>\n",
       "      <td>0</td>\n",
       "    </tr>\n",
       "    <tr>\n",
       "      <th>4</th>\n",
       "      <td>0</td>\n",
       "      <td>137</td>\n",
       "      <td>40</td>\n",
       "      <td>35</td>\n",
       "      <td>168</td>\n",
       "      <td>43.1</td>\n",
       "      <td>2.288</td>\n",
       "      <td>33</td>\n",
       "      <td>1</td>\n",
       "    </tr>\n",
       "  </tbody>\n",
       "</table>\n",
       "</div>"
      ],
      "text/plain": [
       "   Pregnancies  Glucose  BloodPressure  SkinThickness  Insulin   BMI  \\\n",
       "0            6      148             72             35        0  33.6   \n",
       "1            1       85             66             29        0  26.6   \n",
       "2            8      183             64              0        0  23.3   \n",
       "3            1       89             66             23       94  28.1   \n",
       "4            0      137             40             35      168  43.1   \n",
       "\n",
       "   DiabetesPedigreeFunction  Age  Outcome  \n",
       "0                     0.627   50        1  \n",
       "1                     0.351   31        0  \n",
       "2                     0.672   32        1  \n",
       "3                     0.167   21        0  \n",
       "4                     2.288   33        1  "
      ]
     },
     "execution_count": 4,
     "metadata": {},
     "output_type": "execute_result"
    }
   ],
   "source": [
    "df = pd.read_csv(\"diabetes.csv\")\n",
    "df.head()"
   ]
  },
  {
   "cell_type": "code",
   "execution_count": 5,
   "id": "3dc1db31-119a-4a78-b4e8-1d11bfea5a98",
   "metadata": {},
   "outputs": [
    {
     "data": {
      "text/plain": [
       "0    500\n",
       "1    268\n",
       "Name: Outcome, dtype: int64"
      ]
     },
     "execution_count": 5,
     "metadata": {},
     "output_type": "execute_result"
    }
   ],
   "source": [
    "df[\"Outcome\"].value_counts()"
   ]
  },
  {
   "cell_type": "code",
   "execution_count": 6,
   "id": "b2ce16d3-aeb6-4ab7-b36d-213288f6ebdc",
   "metadata": {},
   "outputs": [
    {
     "name": "stderr",
     "output_type": "stream",
     "text": [
      "C:\\Users\\Admin\\anaconda3\\lib\\site-packages\\seaborn\\_decorators.py:36: FutureWarning: Pass the following variable as a keyword arg: x. From version 0.12, the only valid positional argument will be `data`, and passing other arguments without an explicit keyword will result in an error or misinterpretation.\n",
      "  warnings.warn(\n"
     ]
    },
    {
     "data": {
      "text/plain": [
       "<AxesSubplot:xlabel='Outcome', ylabel='count'>"
      ]
     },
     "execution_count": 6,
     "metadata": {},
     "output_type": "execute_result"
    },
    {
     "data": {
      "image/png": "[encoded data removed]",
      "text/plain": [
       "<Figure size 432x288 with 1 Axes>"
      ]
     },
     "metadata": {
      "needs_background": "light"
     },
     "output_type": "display_data"
    }
   ],
   "source": [
    "sns.countplot(df[\"Outcome\"])"
   ]
  },
  {
   "cell_type": "code",
   "execution_count": 8,
   "id": "c3458ee5-c82e-4feb-a95b-62ecc49ea1fa",
   "metadata": {},
   "outputs": [
    {
     "data": {
      "text/plain": [
       "0    500\n",
       "1    268\n",
       "Name: Outcome, dtype: int64"
      ]
     },
     "execution_count": 8,
     "metadata": {},
     "output_type": "execute_result"
    }
   ],
   "source": [
    "df[\"Outcome\"].value_counts()"
   ]
  },
  {
   "cell_type": "markdown",
   "id": "4bea8856-aba3-43de-b0a4-2b89eae981ff",
   "metadata": {},
   "source": [
    "##### train test split"
   ]
  },
  {
   "cell_type": "code",
   "execution_count": 10,
   "id": "ec84978d-d638-406c-930b-344717a271c5",
   "metadata": {},
   "outputs": [],
   "source": [
    "x = df.drop(\"Outcome\",axis=1)\n",
    "y = df[\"Outcome\"]\n",
    "x_train, x_test, y_train , y_test = train_test_split(x,y,test_size=0.2,random_state=42,stratify=y)"
   ]
  },
  {
   "cell_type": "code",
   "execution_count": 9,
   "id": "f33cfc1e-17b5-45af-9103-ddb47a7bdba8",
   "metadata": {},
   "outputs": [
    {
     "data": {
      "text/plain": [
       "0.6510416666666666"
      ]
     },
     "execution_count": 9,
     "metadata": {},
     "output_type": "execute_result"
    }
   ],
   "source": [
    "500 / (500+ 268) # 0.6510416666666666"
   ]
  },
  {
   "cell_type": "code",
   "execution_count": 12,
   "id": "a06f4432-900d-4a81-88f0-0a9a71bfd523",
   "metadata": {},
   "outputs": [
    {
     "data": {
      "text/plain": [
       "0    400\n",
       "1    214\n",
       "Name: Outcome, dtype: int64"
      ]
     },
     "execution_count": 12,
     "metadata": {},
     "output_type": "execute_result"
    }
   ],
   "source": [
    "y_train.value_counts()"
   ]
  },
  {
   "cell_type": "code",
   "execution_count": 14,
   "id": "b3bd9819-67d7-4226-945b-7ceb763fa82d",
   "metadata": {},
   "outputs": [],
   "source": [
    "x = df.drop(\"Outcome\",axis=1)\n",
    "y = df[\"Outcome\"]\n",
    "x_train, x_test, y_train , y_test = train_test_split(x,y,test_size=0.2,random_state=42)"
   ]
  },
  {
   "cell_type": "code",
   "execution_count": 15,
   "id": "cce2eb38-bfc5-48f9-bbc8-86961e173ef6",
   "metadata": {},
   "outputs": [
    {
     "data": {
      "text/plain": [
       "0    401\n",
       "1    213\n",
       "Name: Outcome, dtype: int64"
      ]
     },
     "execution_count": 15,
     "metadata": {},
     "output_type": "execute_result"
    }
   ],
   "source": [
    "y_train.value_counts()"
   ]
  },
  {
   "cell_type": "code",
   "execution_count": 23,
   "id": "efc34f24-0098-4bde-a418-34144137cdae",
   "metadata": {},
   "outputs": [],
   "source": [
    "x = df.drop(\"Outcome\",axis=1)\n",
    "y = df[\"Outcome\"]\n",
    "x_train, x_test, y_train , y_test = train_test_split(x,y,test_size=0.25,random_state=42,stratify=y)"
   ]
  },
  {
   "cell_type": "markdown",
   "id": "2b56c56f-9d9a-4040-8eb6-698b3326cb17",
   "metadata": {},
   "source": [
    "#### Model Training"
   ]
  },
  {
   "cell_type": "code",
   "execution_count": 24,
   "id": "187b6bd2-fb92-471f-962d-fead427dfad2",
   "metadata": {},
   "outputs": [
    {
     "data": {
      "text/html": [
       "<style>#sk-container-id-3 {color: black;}#sk-container-id-3 pre{padding: 0;}#sk-container-id-3 div.sk-toggleable {background-color: white;}#sk-container-id-3 label.sk-toggleable__label {cursor: pointer;display: block;width: 100%;margin-bottom: 0;padding: 0.3em;box-sizing: border-box;text-align: center;}#sk-container-id-3 label.sk-toggleable__label-arrow:before {content: \"▸\";float: left;margin-right: 0.25em;color: #696969;}#sk-container-id-3 label.sk-toggleable__label-arrow:hover:before {color: black;}#sk-container-id-3 div.sk-estimator:hover label.sk-toggleable__label-arrow:before {color: black;}#sk-container-id-3 div.sk-toggleable__content {max-height: 0;max-width: 0;overflow: hidden;text-align: left;background-color: #f0f8ff;}#sk-container-id-3 div.sk-toggleable__content pre {margin: 0.2em;color: black;border-radius: 0.25em;background-color: #f0f8ff;}#sk-container-id-3 input.sk-toggleable__control:checked~div.sk-toggleable__content {max-height: 200px;max-width: 100%;overflow: auto;}#sk-container-id-3 input.sk-toggleable__control:checked~label.sk-toggleable__label-arrow:before {content: \"▾\";}#sk-container-id-3 div.sk-estimator input.sk-toggleable__control:checked~label.sk-toggleable__label {background-color: #d4ebff;}#sk-container-id-3 div.sk-label input.sk-toggleable__control:checked~label.sk-toggleable__label {background-color: #d4ebff;}#sk-container-id-3 input.sk-hidden--visually {border: 0;clip: rect(1px 1px 1px 1px);clip: rect(1px, 1px, 1px, 1px);height: 1px;margin: -1px;overflow: hidden;padding: 0;position: absolute;width: 1px;}#sk-container-id-3 div.sk-estimator {font-family: monospace;background-color: #f0f8ff;border: 1px dotted black;border-radius: 0.25em;box-sizing: border-box;margin-bottom: 0.5em;}#sk-container-id-3 div.sk-estimator:hover {background-color: #d4ebff;}#sk-container-id-3 div.sk-parallel-item::after {content: \"\";width: 100%;border-bottom: 1px solid gray;flex-grow: 1;}#sk-container-id-3 div.sk-label:hover label.sk-toggleable__label {background-color: #d4ebff;}#sk-container-id-3 div.sk-serial::before {content: \"\";position: absolute;border-left: 1px solid gray;box-sizing: border-box;top: 0;bottom: 0;left: 50%;z-index: 0;}#sk-container-id-3 div.sk-serial {display: flex;flex-direction: column;align-items: center;background-color: white;padding-right: 0.2em;padding-left: 0.2em;position: relative;}#sk-container-id-3 div.sk-item {position: relative;z-index: 1;}#sk-container-id-3 div.sk-parallel {display: flex;align-items: stretch;justify-content: center;background-color: white;position: relative;}#sk-container-id-3 div.sk-item::before, #sk-container-id-3 div.sk-parallel-item::before {content: \"\";position: absolute;border-left: 1px solid gray;box-sizing: border-box;top: 0;bottom: 0;left: 50%;z-index: -1;}#sk-container-id-3 div.sk-parallel-item {display: flex;flex-direction: column;z-index: 1;position: relative;background-color: white;}#sk-container-id-3 div.sk-parallel-item:first-child::after {align-self: flex-end;width: 50%;}#sk-container-id-3 div.sk-parallel-item:last-child::after {align-self: flex-start;width: 50%;}#sk-container-id-3 div.sk-parallel-item:only-child::after {width: 0;}#sk-container-id-3 div.sk-dashed-wrapped {border: 1px dashed gray;margin: 0 0.4em 0.5em 0.4em;box-sizing: border-box;padding-bottom: 0.4em;background-color: white;}#sk-container-id-3 div.sk-label label {font-family: monospace;font-weight: bold;display: inline-block;line-height: 1.2em;}#sk-container-id-3 div.sk-label-container {text-align: center;}#sk-container-id-3 div.sk-container {/* jupyter's `normalize.less` sets `[hidden] { display: none; }` but bootstrap.min.css set `[hidden] { display: none !important; }` so we also need the `!important` here to be able to override the default hidden behavior on the sphinx rendered scikit-learn.org. See: https://github.com/scikit-learn/scikit-learn/issues/21755 */display: inline-block !important;position: relative;}#sk-container-id-3 div.sk-text-repr-fallback {display: none;}</style><div id=\"sk-container-id-3\" class=\"sk-top-container\"><div class=\"sk-text-repr-fallback\"><pre>LogisticRegression()</pre><b>In a Jupyter environment, please rerun this cell to show the HTML representation or trust the notebook. <br />On GitHub, the HTML representation is unable to render, please try loading this page with nbviewer.org.</b></div><div class=\"sk-container\" hidden><div class=\"sk-item\"><div class=\"sk-estimator sk-toggleable\"><input class=\"sk-toggleable__control sk-hidden--visually\" id=\"sk-estimator-id-3\" type=\"checkbox\" checked><label for=\"sk-estimator-id-3\" class=\"sk-toggleable__label sk-toggleable__label-arrow\">LogisticRegression</label><div class=\"sk-toggleable__content\"><pre>LogisticRegression()</pre></div></div></div></div></div>"
      ],
      "text/plain": [
       "LogisticRegression()"
      ]
     },
     "execution_count": 24,
     "metadata": {},
     "output_type": "execute_result"
    }
   ],
   "source": [
    "lg_model = LogisticRegression()\n",
    "lg_model.fit(x_train,y_train)"
   ]
  },
  {
   "cell_type": "markdown",
   "id": "a6fac8f0-297a-467a-8215-d82c63729851",
   "metadata": {},
   "source": [
    "##### Evaluation"
   ]
  },
  {
   "cell_type": "code",
   "execution_count": 25,
   "id": "74f2c37c-51e1-4e17-bea0-1125d740e3b6",
   "metadata": {},
   "outputs": [
    {
     "name": "stdout",
     "output_type": "stream",
     "text": [
      "confusion matrix \n",
      " [[105  20]\n",
      " [ 32  35]]\n",
      "accuarcy \n",
      " 0.7291666666666666\n",
      "classification report\n",
      "               precision    recall  f1-score   support\n",
      "\n",
      "           0       0.77      0.84      0.80       125\n",
      "           1       0.64      0.52      0.57        67\n",
      "\n",
      "    accuracy                           0.73       192\n",
      "   macro avg       0.70      0.68      0.69       192\n",
      "weighted avg       0.72      0.73      0.72       192\n",
      "\n"
     ]
    }
   ],
   "source": [
    "y_pred = lg_model.predict(x_test)\n",
    "cnf_matrix = confusion_matrix(y_test, y_pred)\n",
    "print(\"confusion matrix \\n\",cnf_matrix)\n",
    "\n",
    "accuarcy = accuracy_score(y_test, y_pred)\n",
    "print(\"accuarcy \\n\",accuarcy)\n",
    "\n",
    "clf_report = classification_report(y_test, y_pred)\n",
    "print(\"classification report\\n\",clf_report)"
   ]
  },
  {
   "cell_type": "code",
   "execution_count": 26,
   "id": "bf1d63db-b744-47fe-bf55-18cdbb40fc56",
   "metadata": {},
   "outputs": [
    {
     "data": {
      "text/plain": [
       "0    125\n",
       "1     67\n",
       "Name: Outcome, dtype: int64"
      ]
     },
     "execution_count": 26,
     "metadata": {},
     "output_type": "execute_result"
    }
   ],
   "source": [
    "y_test.value_counts()"
   ]
  },
  {
   "cell_type": "code",
   "execution_count": 33,
   "id": "e05e874f-5c2a-4716-9eba-c942131a62e1",
   "metadata": {},
   "outputs": [
    {
     "name": "stdout",
     "output_type": "stream",
     "text": [
      "classification report\n",
      "               precision    recall  f1-score   support\n",
      "\n",
      "           0       0.77      0.84      0.80       125\n",
      "           1       0.64      0.52      0.57        67\n",
      "\n",
      "    accuracy                           0.73       192\n",
      "   macro avg       0.70      0.68      0.69       192\n",
      "weighted avg       0.72      0.73      0.72       192\n",
      "\n"
     ]
    }
   ],
   "source": [
    "print(\"classification report\\n\",clf_report)"
   ]
  },
  {
   "cell_type": "code",
   "execution_count": 42,
   "id": "c8b19445-d7d1-4775-aeca-48b3816a2571",
   "metadata": {},
   "outputs": [
    {
     "data": {
      "text/plain": [
       "array([0, 0, 0, 0, 1, 0, 0, 0, 1, 0, 0, 1, 0, 0, 1, 1, 1, 0, 0, 0, 0, 0,\n",
       "       0, 1, 1, 1, 0, 0, 1, 1, 0, 0, 0, 0, 1, 0, 0, 0, 0, 0, 1, 0, 0, 0,\n",
       "       1, 1, 1, 0, 1, 1, 0, 0, 0, 0, 1, 0, 1, 0, 0, 1, 1, 1, 1, 0, 0, 1,\n",
       "       0, 0, 0, 0, 0, 1, 1, 0, 0, 0, 0, 1, 0, 0, 0, 1, 0, 0, 1, 0, 0, 0,\n",
       "       0, 0, 0, 1, 0, 0, 0, 0, 0, 0, 0, 0, 0, 0, 0, 0, 1, 0, 1, 0, 0, 0,\n",
       "       0, 0, 0, 1, 1, 0, 0, 1, 0, 1, 1, 1, 0, 0, 0, 0, 0, 1, 0, 0, 1, 0,\n",
       "       0, 0, 0, 0, 0, 0, 1, 0, 0, 0, 0, 0, 0, 0, 0, 0, 1, 0, 0, 0, 1, 0,\n",
       "       0, 0, 0, 0, 0, 0, 0, 0, 0, 1, 1, 0, 1, 0, 1, 0, 0, 1, 0, 1, 0, 1,\n",
       "       0, 1, 0, 1, 0, 0, 0, 0, 0, 1, 1, 0, 0, 0, 0, 0], dtype=int64)"
      ]
     },
     "execution_count": 42,
     "metadata": {},
     "output_type": "execute_result"
    }
   ],
   "source": [
    "y_pred = lg_model.predict(x_test)\n",
    "y_pred"
   ]
  },
  {
   "cell_type": "code",
   "execution_count": 43,
   "id": "eee1d6d3-c47e-4ac4-9aef-2f318161cefc",
   "metadata": {},
   "outputs": [
    {
     "data": {
      "text/plain": [
       "array([[0.56518312, 0.43481688],\n",
       "       [0.66068054, 0.33931946],\n",
       "       [0.90098634, 0.09901366],\n",
       "       [0.54816629, 0.45183371],\n",
       "       [0.19311763, 0.80688237],\n",
       "       [0.81816032, 0.18183968],\n",
       "       [0.65768847, 0.34231153],\n",
       "       [0.97952072, 0.02047928],\n",
       "       [0.36563755, 0.63436245],\n",
       "       [0.96177338, 0.03822662],\n",
       "       [0.76913105, 0.23086895],\n",
       "       [0.26351122, 0.73648878],\n",
       "       [0.73146058, 0.26853942],\n",
       "       [0.89512644, 0.10487356],\n",
       "       [0.45914919, 0.54085081],\n",
       "       [0.06034221, 0.93965779],\n",
       "       [0.34155558, 0.65844442],\n",
       "       [0.90193352, 0.09806648],\n",
       "       [0.96981754, 0.03018246],\n",
       "       [0.73889436, 0.26110564],\n",
       "       [0.92160227, 0.07839773],\n",
       "       [0.84058844, 0.15941156],\n",
       "       [0.90007591, 0.09992409],\n",
       "       [0.20893634, 0.79106366],\n",
       "       [0.11214326, 0.88785674],\n",
       "       [0.18453323, 0.81546677],\n",
       "       [0.88046257, 0.11953743],\n",
       "       [0.93043884, 0.06956116],\n",
       "       [0.09418922, 0.90581078],\n",
       "       [0.22658926, 0.77341074],\n",
       "       [0.53244858, 0.46755142],\n",
       "       [0.99311293, 0.00688707],\n",
       "       [0.94477432, 0.05522568],\n",
       "       [0.89115859, 0.10884141],\n",
       "       [0.10510764, 0.89489236],\n",
       "       [0.85286556, 0.14713444],\n",
       "       [0.66552599, 0.33447401],\n",
       "       [0.8777147 , 0.1222853 ],\n",
       "       [0.85786849, 0.14213151],\n",
       "       [0.92634638, 0.07365362],\n",
       "       [0.1226289 , 0.8773711 ],\n",
       "       [0.97849085, 0.02150915],\n",
       "       [0.85420176, 0.14579824],\n",
       "       [0.5770474 , 0.4229526 ],\n",
       "       [0.17491367, 0.82508633],\n",
       "       [0.28390633, 0.71609367],\n",
       "       [0.16451121, 0.83548879],\n",
       "       [0.88535607, 0.11464393],\n",
       "       [0.27662864, 0.72337136],\n",
       "       [0.01189128, 0.98810872],\n",
       "       [0.74155087, 0.25844913],\n",
       "       [0.663706  , 0.336294  ],\n",
       "       [0.62506475, 0.37493525],\n",
       "       [0.87874293, 0.12125707],\n",
       "       [0.3276374 , 0.6723626 ],\n",
       "       [0.68194811, 0.31805189],\n",
       "       [0.22956089, 0.77043911],\n",
       "       [0.82102995, 0.17897005],\n",
       "       [0.68971082, 0.31028918],\n",
       "       [0.38568715, 0.61431285],\n",
       "       [0.43767544, 0.56232456],\n",
       "       [0.42379437, 0.57620563],\n",
       "       [0.47875774, 0.52124226],\n",
       "       [0.92571235, 0.07428765],\n",
       "       [0.83695654, 0.16304346],\n",
       "       [0.31678569, 0.68321431],\n",
       "       [0.9616601 , 0.0383399 ],\n",
       "       [0.80859911, 0.19140089],\n",
       "       [0.86876219, 0.13123781],\n",
       "       [0.92266411, 0.07733589],\n",
       "       [0.64963519, 0.35036481],\n",
       "       [0.35702426, 0.64297574],\n",
       "       [0.20860014, 0.79139986],\n",
       "       [0.74170065, 0.25829935],\n",
       "       [0.99820933, 0.00179067],\n",
       "       [0.93771013, 0.06228987],\n",
       "       [0.8893009 , 0.1106991 ],\n",
       "       [0.44932037, 0.55067963],\n",
       "       [0.96515752, 0.03484248],\n",
       "       [0.90285703, 0.09714297],\n",
       "       [0.72746688, 0.27253312],\n",
       "       [0.14885249, 0.85114751],\n",
       "       [0.94905874, 0.05094126],\n",
       "       [0.98636149, 0.01363851],\n",
       "       [0.0863293 , 0.9136707 ],\n",
       "       [0.63712453, 0.36287547],\n",
       "       [0.68127291, 0.31872709],\n",
       "       [0.6645728 , 0.3354272 ],\n",
       "       [0.79417901, 0.20582099],\n",
       "       [0.88100514, 0.11899486],\n",
       "       [0.88468772, 0.11531228],\n",
       "       [0.40454681, 0.59545319],\n",
       "       [0.95238198, 0.04761802],\n",
       "       [0.96505198, 0.03494802],\n",
       "       [0.7144893 , 0.2855107 ],\n",
       "       [0.96086266, 0.03913734],\n",
       "       [0.75697642, 0.24302358],\n",
       "       [0.87532682, 0.12467318],\n",
       "       [0.96009439, 0.03990561],\n",
       "       [0.83919313, 0.16080687],\n",
       "       [0.51403763, 0.48596237],\n",
       "       [0.53666108, 0.46333892],\n",
       "       [0.72354123, 0.27645877],\n",
       "       [0.80351774, 0.19648226],\n",
       "       [0.22921069, 0.77078931],\n",
       "       [0.69899413, 0.30100587],\n",
       "       [0.49225233, 0.50774767],\n",
       "       [0.68378181, 0.31621819],\n",
       "       [0.85032065, 0.14967935],\n",
       "       [0.63118246, 0.36881754],\n",
       "       [0.74076174, 0.25923826],\n",
       "       [0.79424155, 0.20575845],\n",
       "       [0.93302212, 0.06697788],\n",
       "       [0.39129949, 0.60870051],\n",
       "       [0.15231111, 0.84768889],\n",
       "       [0.93084103, 0.06915897],\n",
       "       [0.5074223 , 0.4925777 ],\n",
       "       [0.44293436, 0.55706564],\n",
       "       [0.76292506, 0.23707494],\n",
       "       [0.16256193, 0.83743807],\n",
       "       [0.3470406 , 0.6529594 ],\n",
       "       [0.32745923, 0.67254077],\n",
       "       [0.67608945, 0.32391055],\n",
       "       [0.87143622, 0.12856378],\n",
       "       [0.99534204, 0.00465796],\n",
       "       [0.90640878, 0.09359122],\n",
       "       [0.91326421, 0.08673579],\n",
       "       [0.21998131, 0.78001869],\n",
       "       [0.87763502, 0.12236498],\n",
       "       [0.86054949, 0.13945051],\n",
       "       [0.49474035, 0.50525965],\n",
       "       [0.9007822 , 0.0992178 ],\n",
       "       [0.55465385, 0.44534615],\n",
       "       [0.87467342, 0.12532658],\n",
       "       [0.80713564, 0.19286436],\n",
       "       [0.94142699, 0.05857301],\n",
       "       [0.76730171, 0.23269829],\n",
       "       [0.93433321, 0.06566679],\n",
       "       [0.08099791, 0.91900209],\n",
       "       [0.64938161, 0.35061839],\n",
       "       [0.89582405, 0.10417595],\n",
       "       [0.71558673, 0.28441327],\n",
       "       [0.60562729, 0.39437271],\n",
       "       [0.72978835, 0.27021165],\n",
       "       [0.84375937, 0.15624063],\n",
       "       [0.93928999, 0.06071001],\n",
       "       [0.91725295, 0.08274705],\n",
       "       [0.73700383, 0.26299617],\n",
       "       [0.1498914 , 0.8501086 ],\n",
       "       [0.81325462, 0.18674538],\n",
       "       [0.6894987 , 0.3105013 ],\n",
       "       [0.53703846, 0.46296154],\n",
       "       [0.4415917 , 0.5584083 ],\n",
       "       [0.89760562, 0.10239438],\n",
       "       [0.56406818, 0.43593182],\n",
       "       [0.68553097, 0.31446903],\n",
       "       [0.88102242, 0.11897758],\n",
       "       [0.85073306, 0.14926694],\n",
       "       [0.94649598, 0.05350402],\n",
       "       [0.82149709, 0.17850291],\n",
       "       [0.80924724, 0.19075276],\n",
       "       [0.79218483, 0.20781517],\n",
       "       [0.95710939, 0.04289061],\n",
       "       [0.34252227, 0.65747773],\n",
       "       [0.44341295, 0.55658705],\n",
       "       [0.91160873, 0.08839127],\n",
       "       [0.44958406, 0.55041594],\n",
       "       [0.60799623, 0.39200377],\n",
       "       [0.27043484, 0.72956516],\n",
       "       [0.9254591 , 0.0745409 ],\n",
       "       [0.93572623, 0.06427377],\n",
       "       [0.23846486, 0.76153514],\n",
       "       [0.9570695 , 0.0429305 ],\n",
       "       [0.41596359, 0.58403641],\n",
       "       [0.8497465 , 0.1502535 ],\n",
       "       [0.21947457, 0.78052543],\n",
       "       [0.80253796, 0.19746204],\n",
       "       [0.22685901, 0.77314099],\n",
       "       [0.65381015, 0.34618985],\n",
       "       [0.05922947, 0.94077053],\n",
       "       [0.95174293, 0.04825707],\n",
       "       [0.95700371, 0.04299629],\n",
       "       [0.52279289, 0.47720711],\n",
       "       [0.65607255, 0.34392745],\n",
       "       [0.58798997, 0.41201003],\n",
       "       [0.05424968, 0.94575032],\n",
       "       [0.13749767, 0.86250233],\n",
       "       [0.97970078, 0.02029922],\n",
       "       [0.83555258, 0.16444742],\n",
       "       [0.79418049, 0.20581951],\n",
       "       [0.62809235, 0.37190765],\n",
       "       [0.70203937, 0.29796063]])"
      ]
     },
     "execution_count": 43,
     "metadata": {},
     "output_type": "execute_result"
    }
   ],
   "source": [
    "y_pred = lg_model.predict_proba(x_test)\n",
    "y_pred\n",
    "   0 class     1 class\n",
    "[[0.56518312, 0.43481688], > 0 class\n",
    "[0.66068054, 0.33931946],  > 0  class\n",
    "[0.90098634, 0.09901366], >> 0 class\n",
    "[0.54816629, 0.45183371] >> 0 class\n",
    "0.19311763, 0.80688237], >> 1 class"
   ]
  }
 ],
 "metadata": {
  "kernelspec": {
   "display_name": "Python 3 (ipykernel)",
   "language": "python",
   "name": "python3"
  },
  "language_info": {
   "codemirror_mode": {
    "name": "ipython",
    "version": 3
   },
   "file_extension": ".py",
   "mimetype": "text/x-python",
   "name": "python",
   "nbconvert_exporter": "python",
   "pygments_lexer": "ipython3",
   "version": "3.11.5"
  }
 },
 "nbformat": 4,
 "nbformat_minor": 5
}
